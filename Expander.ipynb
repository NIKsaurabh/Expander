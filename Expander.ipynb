{
 "cells": [
  {
   "cell_type": "code",
   "execution_count": 80,
   "metadata": {},
   "outputs": [],
   "source": [
    "import numpy as np\n",
    "import pandas as pd\n",
    "import matplotlib.pyplot as plt\n",
    "import seaborn as sns"
   ]
  },
  {
   "cell_type": "code",
   "execution_count": 81,
   "metadata": {},
   "outputs": [],
   "source": [
    "dataset = pd.read_csv('Expander_data.csv')"
   ]
  },
  {
   "cell_type": "code",
   "execution_count": 82,
   "metadata": {},
   "outputs": [
    {
     "data": {
      "text/html": [
       "<div>\n",
       "<style scoped>\n",
       "    .dataframe tbody tr th:only-of-type {\n",
       "        vertical-align: middle;\n",
       "    }\n",
       "\n",
       "    .dataframe tbody tr th {\n",
       "        vertical-align: top;\n",
       "    }\n",
       "\n",
       "    .dataframe thead th {\n",
       "        text-align: right;\n",
       "    }\n",
       "</style>\n",
       "<table border=\"1\" class=\"dataframe\">\n",
       "  <thead>\n",
       "    <tr style=\"text-align: right;\">\n",
       "      <th></th>\n",
       "      <th>Timestamp</th>\n",
       "      <th>Suction Pressure (psig)</th>\n",
       "      <th>Suction Temperature (F)</th>\n",
       "      <th>Total Flow (gpm)</th>\n",
       "      <th>Speed (rpm)</th>\n",
       "      <th>By-pass Valve Position (%)</th>\n",
       "      <th>Discharge Pressure (psig)</th>\n",
       "      <th>Discharge Temperature (F)</th>\n",
       "      <th>Run Status</th>\n",
       "    </tr>\n",
       "  </thead>\n",
       "  <tbody>\n",
       "    <tr>\n",
       "      <td>0</td>\n",
       "      <td>1/4/2020 21:20</td>\n",
       "      <td>596.100853</td>\n",
       "      <td>-229.436683</td>\n",
       "      <td>7925.800487</td>\n",
       "      <td>2999.411045</td>\n",
       "      <td>6.0</td>\n",
       "      <td>226.044931</td>\n",
       "      <td>-227.614448</td>\n",
       "      <td>NaN</td>\n",
       "    </tr>\n",
       "    <tr>\n",
       "      <td>1</td>\n",
       "      <td>1/4/2020 21:20</td>\n",
       "      <td>596.838217</td>\n",
       "      <td>-230.453708</td>\n",
       "      <td>8085.917724</td>\n",
       "      <td>2989.706617</td>\n",
       "      <td>6.0</td>\n",
       "      <td>217.150974</td>\n",
       "      <td>-228.668636</td>\n",
       "      <td>NaN</td>\n",
       "    </tr>\n",
       "    <tr>\n",
       "      <td>2</td>\n",
       "      <td>1/4/2020 21:20</td>\n",
       "      <td>596.468895</td>\n",
       "      <td>-229.545356</td>\n",
       "      <td>7902.175243</td>\n",
       "      <td>3006.331679</td>\n",
       "      <td>6.0</td>\n",
       "      <td>226.054086</td>\n",
       "      <td>-227.755324</td>\n",
       "      <td>NaN</td>\n",
       "    </tr>\n",
       "    <tr>\n",
       "      <td>3</td>\n",
       "      <td>1/4/2020 21:20</td>\n",
       "      <td>603.568271</td>\n",
       "      <td>-230.309438</td>\n",
       "      <td>7991.808959</td>\n",
       "      <td>3010.487486</td>\n",
       "      <td>6.0</td>\n",
       "      <td>226.016182</td>\n",
       "      <td>-228.489113</td>\n",
       "      <td>NaN</td>\n",
       "    </tr>\n",
       "    <tr>\n",
       "      <td>4</td>\n",
       "      <td>1/4/2020 21:21</td>\n",
       "      <td>595.407372</td>\n",
       "      <td>-229.767969</td>\n",
       "      <td>7871.560747</td>\n",
       "      <td>2986.665518</td>\n",
       "      <td>6.0</td>\n",
       "      <td>227.769383</td>\n",
       "      <td>-227.971795</td>\n",
       "      <td>NaN</td>\n",
       "    </tr>\n",
       "  </tbody>\n",
       "</table>\n",
       "</div>"
      ],
      "text/plain": [
       "        Timestamp  Suction Pressure (psig)  Suction Temperature (F)  \\\n",
       "0  1/4/2020 21:20               596.100853              -229.436683   \n",
       "1  1/4/2020 21:20               596.838217              -230.453708   \n",
       "2  1/4/2020 21:20               596.468895              -229.545356   \n",
       "3  1/4/2020 21:20               603.568271              -230.309438   \n",
       "4  1/4/2020 21:21               595.407372              -229.767969   \n",
       "\n",
       "   Total Flow (gpm)  Speed (rpm)  By-pass Valve Position (%)  \\\n",
       "0       7925.800487  2999.411045                         6.0   \n",
       "1       8085.917724  2989.706617                         6.0   \n",
       "2       7902.175243  3006.331679                         6.0   \n",
       "3       7991.808959  3010.487486                         6.0   \n",
       "4       7871.560747  2986.665518                         6.0   \n",
       "\n",
       "   Discharge Pressure (psig)  Discharge Temperature (F)  Run Status  \n",
       "0                 226.044931                -227.614448         NaN  \n",
       "1                 217.150974                -228.668636         NaN  \n",
       "2                 226.054086                -227.755324         NaN  \n",
       "3                 226.016182                -228.489113         NaN  \n",
       "4                 227.769383                -227.971795         NaN  "
      ]
     },
     "execution_count": 82,
     "metadata": {},
     "output_type": "execute_result"
    }
   ],
   "source": [
    "dataset.head()"
   ]
  },
  {
   "cell_type": "code",
   "execution_count": 83,
   "metadata": {},
   "outputs": [
    {
     "data": {
      "text/plain": [
       "(296450, 9)"
      ]
     },
     "execution_count": 83,
     "metadata": {},
     "output_type": "execute_result"
    }
   ],
   "source": [
    "dataset.shape"
   ]
  },
  {
   "cell_type": "code",
   "execution_count": 84,
   "metadata": {},
   "outputs": [
    {
     "name": "stdout",
     "output_type": "stream",
     "text": [
      "<class 'pandas.core.frame.DataFrame'>\n",
      "RangeIndex: 296450 entries, 0 to 296449\n",
      "Data columns (total 9 columns):\n",
      "Timestamp                     296450 non-null object\n",
      "Suction Pressure (psig)       296450 non-null float64\n",
      "Suction Temperature (F)       296450 non-null float64\n",
      "Total Flow (gpm)              296450 non-null float64\n",
      "Speed (rpm)                   296450 non-null float64\n",
      "By-pass Valve Position (%)    296450 non-null float64\n",
      "Discharge Pressure (psig)     296450 non-null float64\n",
      "Discharge Temperature (F)     296450 non-null float64\n",
      "Run Status                    0 non-null float64\n",
      "dtypes: float64(8), object(1)\n",
      "memory usage: 20.4+ MB\n"
     ]
    }
   ],
   "source": [
    "dataset.info()"
   ]
  },
  {
   "cell_type": "code",
   "execution_count": 85,
   "metadata": {
    "scrolled": true
   },
   "outputs": [
    {
     "data": {
      "text/html": [
       "<div>\n",
       "<style scoped>\n",
       "    .dataframe tbody tr th:only-of-type {\n",
       "        vertical-align: middle;\n",
       "    }\n",
       "\n",
       "    .dataframe tbody tr th {\n",
       "        vertical-align: top;\n",
       "    }\n",
       "\n",
       "    .dataframe thead th {\n",
       "        text-align: right;\n",
       "    }\n",
       "</style>\n",
       "<table border=\"1\" class=\"dataframe\">\n",
       "  <thead>\n",
       "    <tr style=\"text-align: right;\">\n",
       "      <th></th>\n",
       "      <th>Suction Pressure (psig)</th>\n",
       "      <th>Suction Temperature (F)</th>\n",
       "      <th>Total Flow (gpm)</th>\n",
       "      <th>Speed (rpm)</th>\n",
       "      <th>By-pass Valve Position (%)</th>\n",
       "      <th>Discharge Pressure (psig)</th>\n",
       "      <th>Discharge Temperature (F)</th>\n",
       "      <th>Run Status</th>\n",
       "    </tr>\n",
       "  </thead>\n",
       "  <tbody>\n",
       "    <tr>\n",
       "      <td>count</td>\n",
       "      <td>296450.000000</td>\n",
       "      <td>296450.000000</td>\n",
       "      <td>296450.000000</td>\n",
       "      <td>296450.000000</td>\n",
       "      <td>296450.000000</td>\n",
       "      <td>296450.000000</td>\n",
       "      <td>296450.000000</td>\n",
       "      <td>0.0</td>\n",
       "    </tr>\n",
       "    <tr>\n",
       "      <td>mean</td>\n",
       "      <td>590.541350</td>\n",
       "      <td>-231.564934</td>\n",
       "      <td>8119.917777</td>\n",
       "      <td>2955.416695</td>\n",
       "      <td>2.005667</td>\n",
       "      <td>186.991087</td>\n",
       "      <td>-229.764934</td>\n",
       "      <td>NaN</td>\n",
       "    </tr>\n",
       "    <tr>\n",
       "      <td>std</td>\n",
       "      <td>23.216552</td>\n",
       "      <td>3.574107</td>\n",
       "      <td>398.049531</td>\n",
       "      <td>54.201467</td>\n",
       "      <td>2.488568</td>\n",
       "      <td>56.205183</td>\n",
       "      <td>3.574136</td>\n",
       "      <td>NaN</td>\n",
       "    </tr>\n",
       "    <tr>\n",
       "      <td>min</td>\n",
       "      <td>552.420048</td>\n",
       "      <td>-238.594971</td>\n",
       "      <td>7056.004500</td>\n",
       "      <td>2835.750571</td>\n",
       "      <td>-0.200000</td>\n",
       "      <td>69.983885</td>\n",
       "      <td>-236.816223</td>\n",
       "      <td>NaN</td>\n",
       "    </tr>\n",
       "    <tr>\n",
       "      <td>25%</td>\n",
       "      <td>572.757269</td>\n",
       "      <td>-234.171427</td>\n",
       "      <td>7916.322054</td>\n",
       "      <td>2906.336126</td>\n",
       "      <td>0.000000</td>\n",
       "      <td>143.468467</td>\n",
       "      <td>-232.371760</td>\n",
       "      <td>NaN</td>\n",
       "    </tr>\n",
       "    <tr>\n",
       "      <td>50%</td>\n",
       "      <td>586.491792</td>\n",
       "      <td>-230.922352</td>\n",
       "      <td>8144.161813</td>\n",
       "      <td>2961.788792</td>\n",
       "      <td>0.000000</td>\n",
       "      <td>183.270451</td>\n",
       "      <td>-229.122946</td>\n",
       "      <td>NaN</td>\n",
       "    </tr>\n",
       "    <tr>\n",
       "      <td>75%</td>\n",
       "      <td>605.986608</td>\n",
       "      <td>-229.585168</td>\n",
       "      <td>8388.610374</td>\n",
       "      <td>3000.863611</td>\n",
       "      <td>4.000000</td>\n",
       "      <td>223.580205</td>\n",
       "      <td>-227.785796</td>\n",
       "      <td>NaN</td>\n",
       "    </tr>\n",
       "    <tr>\n",
       "      <td>max</td>\n",
       "      <td>649.217417</td>\n",
       "      <td>-223.440125</td>\n",
       "      <td>8975.986378</td>\n",
       "      <td>3090.367995</td>\n",
       "      <td>8.026667</td>\n",
       "      <td>324.411576</td>\n",
       "      <td>-221.617102</td>\n",
       "      <td>NaN</td>\n",
       "    </tr>\n",
       "  </tbody>\n",
       "</table>\n",
       "</div>"
      ],
      "text/plain": [
       "       Suction Pressure (psig)  Suction Temperature (F)  Total Flow (gpm)  \\\n",
       "count            296450.000000            296450.000000     296450.000000   \n",
       "mean                590.541350              -231.564934       8119.917777   \n",
       "std                  23.216552                 3.574107        398.049531   \n",
       "min                 552.420048              -238.594971       7056.004500   \n",
       "25%                 572.757269              -234.171427       7916.322054   \n",
       "50%                 586.491792              -230.922352       8144.161813   \n",
       "75%                 605.986608              -229.585168       8388.610374   \n",
       "max                 649.217417              -223.440125       8975.986378   \n",
       "\n",
       "         Speed (rpm)  By-pass Valve Position (%)  Discharge Pressure (psig)  \\\n",
       "count  296450.000000               296450.000000              296450.000000   \n",
       "mean     2955.416695                    2.005667                 186.991087   \n",
       "std        54.201467                    2.488568                  56.205183   \n",
       "min      2835.750571                   -0.200000                  69.983885   \n",
       "25%      2906.336126                    0.000000                 143.468467   \n",
       "50%      2961.788792                    0.000000                 183.270451   \n",
       "75%      3000.863611                    4.000000                 223.580205   \n",
       "max      3090.367995                    8.026667                 324.411576   \n",
       "\n",
       "       Discharge Temperature (F)  Run Status  \n",
       "count              296450.000000         0.0  \n",
       "mean                 -229.764934         NaN  \n",
       "std                     3.574136         NaN  \n",
       "min                  -236.816223         NaN  \n",
       "25%                  -232.371760         NaN  \n",
       "50%                  -229.122946         NaN  \n",
       "75%                  -227.785796         NaN  \n",
       "max                  -221.617102         NaN  "
      ]
     },
     "execution_count": 85,
     "metadata": {},
     "output_type": "execute_result"
    }
   ],
   "source": [
    "dataset.describe()"
   ]
  },
  {
   "cell_type": "code",
   "execution_count": 86,
   "metadata": {},
   "outputs": [
    {
     "data": {
      "text/html": [
       "<div>\n",
       "<style scoped>\n",
       "    .dataframe tbody tr th:only-of-type {\n",
       "        vertical-align: middle;\n",
       "    }\n",
       "\n",
       "    .dataframe tbody tr th {\n",
       "        vertical-align: top;\n",
       "    }\n",
       "\n",
       "    .dataframe thead th {\n",
       "        text-align: right;\n",
       "    }\n",
       "</style>\n",
       "<table border=\"1\" class=\"dataframe\">\n",
       "  <thead>\n",
       "    <tr style=\"text-align: right;\">\n",
       "      <th></th>\n",
       "      <th>Timestamp</th>\n",
       "      <th>Suction Pressure (psig)</th>\n",
       "      <th>Suction Temperature (F)</th>\n",
       "      <th>Total Flow (gpm)</th>\n",
       "      <th>Speed (rpm)</th>\n",
       "      <th>By-pass Valve Position (%)</th>\n",
       "      <th>Discharge Pressure (psig)</th>\n",
       "      <th>Discharge Temperature (F)</th>\n",
       "      <th>Run Status</th>\n",
       "    </tr>\n",
       "  </thead>\n",
       "  <tbody>\n",
       "    <tr>\n",
       "      <td>count</td>\n",
       "      <td>296450</td>\n",
       "      <td>296450.000000</td>\n",
       "      <td>296450.000000</td>\n",
       "      <td>296450.000000</td>\n",
       "      <td>296450.000000</td>\n",
       "      <td>296450.000000</td>\n",
       "      <td>296450.000000</td>\n",
       "      <td>296450.000000</td>\n",
       "      <td>0.0</td>\n",
       "    </tr>\n",
       "    <tr>\n",
       "      <td>unique</td>\n",
       "      <td>74113</td>\n",
       "      <td>NaN</td>\n",
       "      <td>NaN</td>\n",
       "      <td>NaN</td>\n",
       "      <td>NaN</td>\n",
       "      <td>NaN</td>\n",
       "      <td>NaN</td>\n",
       "      <td>NaN</td>\n",
       "      <td>NaN</td>\n",
       "    </tr>\n",
       "    <tr>\n",
       "      <td>top</td>\n",
       "      <td>2/8/2020 4:43</td>\n",
       "      <td>NaN</td>\n",
       "      <td>NaN</td>\n",
       "      <td>NaN</td>\n",
       "      <td>NaN</td>\n",
       "      <td>NaN</td>\n",
       "      <td>NaN</td>\n",
       "      <td>NaN</td>\n",
       "      <td>NaN</td>\n",
       "    </tr>\n",
       "    <tr>\n",
       "      <td>freq</td>\n",
       "      <td>4</td>\n",
       "      <td>NaN</td>\n",
       "      <td>NaN</td>\n",
       "      <td>NaN</td>\n",
       "      <td>NaN</td>\n",
       "      <td>NaN</td>\n",
       "      <td>NaN</td>\n",
       "      <td>NaN</td>\n",
       "      <td>NaN</td>\n",
       "    </tr>\n",
       "    <tr>\n",
       "      <td>mean</td>\n",
       "      <td>NaN</td>\n",
       "      <td>590.541350</td>\n",
       "      <td>-231.564934</td>\n",
       "      <td>8119.917777</td>\n",
       "      <td>2955.416695</td>\n",
       "      <td>2.005667</td>\n",
       "      <td>186.991087</td>\n",
       "      <td>-229.764934</td>\n",
       "      <td>NaN</td>\n",
       "    </tr>\n",
       "    <tr>\n",
       "      <td>std</td>\n",
       "      <td>NaN</td>\n",
       "      <td>23.216552</td>\n",
       "      <td>3.574107</td>\n",
       "      <td>398.049531</td>\n",
       "      <td>54.201467</td>\n",
       "      <td>2.488568</td>\n",
       "      <td>56.205183</td>\n",
       "      <td>3.574136</td>\n",
       "      <td>NaN</td>\n",
       "    </tr>\n",
       "    <tr>\n",
       "      <td>min</td>\n",
       "      <td>NaN</td>\n",
       "      <td>552.420048</td>\n",
       "      <td>-238.594971</td>\n",
       "      <td>7056.004500</td>\n",
       "      <td>2835.750571</td>\n",
       "      <td>-0.200000</td>\n",
       "      <td>69.983885</td>\n",
       "      <td>-236.816223</td>\n",
       "      <td>NaN</td>\n",
       "    </tr>\n",
       "    <tr>\n",
       "      <td>25%</td>\n",
       "      <td>NaN</td>\n",
       "      <td>572.757269</td>\n",
       "      <td>-234.171427</td>\n",
       "      <td>7916.322054</td>\n",
       "      <td>2906.336126</td>\n",
       "      <td>0.000000</td>\n",
       "      <td>143.468467</td>\n",
       "      <td>-232.371760</td>\n",
       "      <td>NaN</td>\n",
       "    </tr>\n",
       "    <tr>\n",
       "      <td>50%</td>\n",
       "      <td>NaN</td>\n",
       "      <td>586.491792</td>\n",
       "      <td>-230.922352</td>\n",
       "      <td>8144.161813</td>\n",
       "      <td>2961.788792</td>\n",
       "      <td>0.000000</td>\n",
       "      <td>183.270451</td>\n",
       "      <td>-229.122946</td>\n",
       "      <td>NaN</td>\n",
       "    </tr>\n",
       "    <tr>\n",
       "      <td>75%</td>\n",
       "      <td>NaN</td>\n",
       "      <td>605.986608</td>\n",
       "      <td>-229.585168</td>\n",
       "      <td>8388.610374</td>\n",
       "      <td>3000.863611</td>\n",
       "      <td>4.000000</td>\n",
       "      <td>223.580205</td>\n",
       "      <td>-227.785796</td>\n",
       "      <td>NaN</td>\n",
       "    </tr>\n",
       "    <tr>\n",
       "      <td>max</td>\n",
       "      <td>NaN</td>\n",
       "      <td>649.217417</td>\n",
       "      <td>-223.440125</td>\n",
       "      <td>8975.986378</td>\n",
       "      <td>3090.367995</td>\n",
       "      <td>8.026667</td>\n",
       "      <td>324.411576</td>\n",
       "      <td>-221.617102</td>\n",
       "      <td>NaN</td>\n",
       "    </tr>\n",
       "  </tbody>\n",
       "</table>\n",
       "</div>"
      ],
      "text/plain": [
       "            Timestamp  Suction Pressure (psig)  Suction Temperature (F)  \\\n",
       "count          296450            296450.000000            296450.000000   \n",
       "unique          74113                      NaN                      NaN   \n",
       "top     2/8/2020 4:43                      NaN                      NaN   \n",
       "freq                4                      NaN                      NaN   \n",
       "mean              NaN               590.541350              -231.564934   \n",
       "std               NaN                23.216552                 3.574107   \n",
       "min               NaN               552.420048              -238.594971   \n",
       "25%               NaN               572.757269              -234.171427   \n",
       "50%               NaN               586.491792              -230.922352   \n",
       "75%               NaN               605.986608              -229.585168   \n",
       "max               NaN               649.217417              -223.440125   \n",
       "\n",
       "        Total Flow (gpm)    Speed (rpm)  By-pass Valve Position (%)  \\\n",
       "count      296450.000000  296450.000000               296450.000000   \n",
       "unique               NaN            NaN                         NaN   \n",
       "top                  NaN            NaN                         NaN   \n",
       "freq                 NaN            NaN                         NaN   \n",
       "mean         8119.917777    2955.416695                    2.005667   \n",
       "std           398.049531      54.201467                    2.488568   \n",
       "min          7056.004500    2835.750571                   -0.200000   \n",
       "25%          7916.322054    2906.336126                    0.000000   \n",
       "50%          8144.161813    2961.788792                    0.000000   \n",
       "75%          8388.610374    3000.863611                    4.000000   \n",
       "max          8975.986378    3090.367995                    8.026667   \n",
       "\n",
       "        Discharge Pressure (psig)  Discharge Temperature (F)  Run Status  \n",
       "count               296450.000000              296450.000000         0.0  \n",
       "unique                        NaN                        NaN         NaN  \n",
       "top                           NaN                        NaN         NaN  \n",
       "freq                          NaN                        NaN         NaN  \n",
       "mean                   186.991087                -229.764934         NaN  \n",
       "std                     56.205183                   3.574136         NaN  \n",
       "min                     69.983885                -236.816223         NaN  \n",
       "25%                    143.468467                -232.371760         NaN  \n",
       "50%                    183.270451                -229.122946         NaN  \n",
       "75%                    223.580205                -227.785796         NaN  \n",
       "max                    324.411576                -221.617102         NaN  "
      ]
     },
     "execution_count": 86,
     "metadata": {},
     "output_type": "execute_result"
    }
   ],
   "source": [
    "dataset.describe(include='all')"
   ]
  },
  {
   "cell_type": "code",
   "execution_count": 87,
   "metadata": {},
   "outputs": [
    {
     "data": {
      "text/html": [
       "<div>\n",
       "<style scoped>\n",
       "    .dataframe tbody tr th:only-of-type {\n",
       "        vertical-align: middle;\n",
       "    }\n",
       "\n",
       "    .dataframe tbody tr th {\n",
       "        vertical-align: top;\n",
       "    }\n",
       "\n",
       "    .dataframe thead th {\n",
       "        text-align: right;\n",
       "    }\n",
       "</style>\n",
       "<table border=\"1\" class=\"dataframe\">\n",
       "  <thead>\n",
       "    <tr style=\"text-align: right;\">\n",
       "      <th></th>\n",
       "      <th>Suction Pressure (psig)</th>\n",
       "      <th>Suction Temperature (F)</th>\n",
       "      <th>Total Flow (gpm)</th>\n",
       "      <th>Speed (rpm)</th>\n",
       "      <th>By-pass Valve Position (%)</th>\n",
       "      <th>Discharge Pressure (psig)</th>\n",
       "      <th>Discharge Temperature (F)</th>\n",
       "      <th>Run Status</th>\n",
       "    </tr>\n",
       "  </thead>\n",
       "  <tbody>\n",
       "    <tr>\n",
       "      <td>Suction Pressure (psig)</td>\n",
       "      <td>1.000000</td>\n",
       "      <td>0.862881</td>\n",
       "      <td>-0.873558</td>\n",
       "      <td>-0.371829</td>\n",
       "      <td>0.089420</td>\n",
       "      <td>0.905435</td>\n",
       "      <td>0.862876</td>\n",
       "      <td>NaN</td>\n",
       "    </tr>\n",
       "    <tr>\n",
       "      <td>Suction Temperature (F)</td>\n",
       "      <td>0.862881</td>\n",
       "      <td>1.000000</td>\n",
       "      <td>-0.938631</td>\n",
       "      <td>-0.500437</td>\n",
       "      <td>0.349575</td>\n",
       "      <td>0.960071</td>\n",
       "      <td>0.999993</td>\n",
       "      <td>NaN</td>\n",
       "    </tr>\n",
       "    <tr>\n",
       "      <td>Total Flow (gpm)</td>\n",
       "      <td>-0.873558</td>\n",
       "      <td>-0.938631</td>\n",
       "      <td>1.000000</td>\n",
       "      <td>0.484320</td>\n",
       "      <td>-0.274621</td>\n",
       "      <td>-0.973483</td>\n",
       "      <td>-0.938624</td>\n",
       "      <td>NaN</td>\n",
       "    </tr>\n",
       "    <tr>\n",
       "      <td>Speed (rpm)</td>\n",
       "      <td>-0.371829</td>\n",
       "      <td>-0.500437</td>\n",
       "      <td>0.484320</td>\n",
       "      <td>1.000000</td>\n",
       "      <td>0.175187</td>\n",
       "      <td>-0.434955</td>\n",
       "      <td>-0.500435</td>\n",
       "      <td>NaN</td>\n",
       "    </tr>\n",
       "    <tr>\n",
       "      <td>By-pass Valve Position (%)</td>\n",
       "      <td>0.089420</td>\n",
       "      <td>0.349575</td>\n",
       "      <td>-0.274621</td>\n",
       "      <td>0.175187</td>\n",
       "      <td>1.000000</td>\n",
       "      <td>0.400566</td>\n",
       "      <td>0.349572</td>\n",
       "      <td>NaN</td>\n",
       "    </tr>\n",
       "    <tr>\n",
       "      <td>Discharge Pressure (psig)</td>\n",
       "      <td>0.905435</td>\n",
       "      <td>0.960071</td>\n",
       "      <td>-0.973483</td>\n",
       "      <td>-0.434955</td>\n",
       "      <td>0.400566</td>\n",
       "      <td>1.000000</td>\n",
       "      <td>0.960065</td>\n",
       "      <td>NaN</td>\n",
       "    </tr>\n",
       "    <tr>\n",
       "      <td>Discharge Temperature (F)</td>\n",
       "      <td>0.862876</td>\n",
       "      <td>0.999993</td>\n",
       "      <td>-0.938624</td>\n",
       "      <td>-0.500435</td>\n",
       "      <td>0.349572</td>\n",
       "      <td>0.960065</td>\n",
       "      <td>1.000000</td>\n",
       "      <td>NaN</td>\n",
       "    </tr>\n",
       "    <tr>\n",
       "      <td>Run Status</td>\n",
       "      <td>NaN</td>\n",
       "      <td>NaN</td>\n",
       "      <td>NaN</td>\n",
       "      <td>NaN</td>\n",
       "      <td>NaN</td>\n",
       "      <td>NaN</td>\n",
       "      <td>NaN</td>\n",
       "      <td>NaN</td>\n",
       "    </tr>\n",
       "  </tbody>\n",
       "</table>\n",
       "</div>"
      ],
      "text/plain": [
       "                            Suction Pressure (psig)  Suction Temperature (F)  \\\n",
       "Suction Pressure (psig)                    1.000000                 0.862881   \n",
       "Suction Temperature (F)                    0.862881                 1.000000   \n",
       "Total Flow (gpm)                          -0.873558                -0.938631   \n",
       "Speed (rpm)                               -0.371829                -0.500437   \n",
       "By-pass Valve Position (%)                 0.089420                 0.349575   \n",
       "Discharge Pressure (psig)                  0.905435                 0.960071   \n",
       "Discharge Temperature (F)                  0.862876                 0.999993   \n",
       "Run Status                                      NaN                      NaN   \n",
       "\n",
       "                            Total Flow (gpm)  Speed (rpm)  \\\n",
       "Suction Pressure (psig)            -0.873558    -0.371829   \n",
       "Suction Temperature (F)            -0.938631    -0.500437   \n",
       "Total Flow (gpm)                    1.000000     0.484320   \n",
       "Speed (rpm)                         0.484320     1.000000   \n",
       "By-pass Valve Position (%)         -0.274621     0.175187   \n",
       "Discharge Pressure (psig)          -0.973483    -0.434955   \n",
       "Discharge Temperature (F)          -0.938624    -0.500435   \n",
       "Run Status                               NaN          NaN   \n",
       "\n",
       "                            By-pass Valve Position (%)  \\\n",
       "Suction Pressure (psig)                       0.089420   \n",
       "Suction Temperature (F)                       0.349575   \n",
       "Total Flow (gpm)                             -0.274621   \n",
       "Speed (rpm)                                   0.175187   \n",
       "By-pass Valve Position (%)                    1.000000   \n",
       "Discharge Pressure (psig)                     0.400566   \n",
       "Discharge Temperature (F)                     0.349572   \n",
       "Run Status                                         NaN   \n",
       "\n",
       "                            Discharge Pressure (psig)  \\\n",
       "Suction Pressure (psig)                      0.905435   \n",
       "Suction Temperature (F)                      0.960071   \n",
       "Total Flow (gpm)                            -0.973483   \n",
       "Speed (rpm)                                 -0.434955   \n",
       "By-pass Valve Position (%)                   0.400566   \n",
       "Discharge Pressure (psig)                    1.000000   \n",
       "Discharge Temperature (F)                    0.960065   \n",
       "Run Status                                        NaN   \n",
       "\n",
       "                            Discharge Temperature (F)  Run Status  \n",
       "Suction Pressure (psig)                      0.862876         NaN  \n",
       "Suction Temperature (F)                      0.999993         NaN  \n",
       "Total Flow (gpm)                            -0.938624         NaN  \n",
       "Speed (rpm)                                 -0.500435         NaN  \n",
       "By-pass Valve Position (%)                   0.349572         NaN  \n",
       "Discharge Pressure (psig)                    0.960065         NaN  \n",
       "Discharge Temperature (F)                    1.000000         NaN  \n",
       "Run Status                                        NaN         NaN  "
      ]
     },
     "execution_count": 87,
     "metadata": {},
     "output_type": "execute_result"
    }
   ],
   "source": [
    "dataset.corr()"
   ]
  },
  {
   "cell_type": "code",
   "execution_count": 88,
   "metadata": {},
   "outputs": [
    {
     "data": {
      "text/plain": [
       "Timestamp                          0\n",
       "Suction Pressure (psig)            0\n",
       "Suction Temperature (F)            0\n",
       "Total Flow (gpm)                   0\n",
       "Speed (rpm)                        0\n",
       "By-pass Valve Position (%)         0\n",
       "Discharge Pressure (psig)          0\n",
       "Discharge Temperature (F)          0\n",
       "Run Status                    296450\n",
       "dtype: int64"
      ]
     },
     "execution_count": 88,
     "metadata": {},
     "output_type": "execute_result"
    }
   ],
   "source": [
    "dataset.isna().sum()"
   ]
  },
  {
   "cell_type": "code",
   "execution_count": 89,
   "metadata": {},
   "outputs": [
    {
     "data": {
      "text/plain": [
       "2/8/2020 4:43      4\n",
       "2/1/2020 9:22      4\n",
       "2/6/2020 21:36     4\n",
       "1/28/2020 23:17    4\n",
       "1/12/2020 9:02     4\n",
       "                  ..\n",
       "1/26/2020 6:12     4\n",
       "1/17/2020 16:18    4\n",
       "1/18/2020 21:27    4\n",
       "4/13/2020 17:13    4\n",
       "4/17/2020 10:32    2\n",
       "Name: Timestamp, Length: 74113, dtype: int64"
      ]
     },
     "execution_count": 89,
     "metadata": {},
     "output_type": "execute_result"
    }
   ],
   "source": [
    "dataset['Timestamp'].value_counts()"
   ]
  },
  {
   "cell_type": "markdown",
   "metadata": {},
   "source": [
    "### Feature selection"
   ]
  },
  {
   "cell_type": "code",
   "execution_count": 90,
   "metadata": {},
   "outputs": [
    {
     "data": {
      "image/png": "[encoded data removed]",
      "text/plain": [
       "<Figure size 864x720 with 2 Axes>"
      ]
     },
     "metadata": {
      "needs_background": "light"
     },
     "output_type": "display_data"
    }
   ],
   "source": [
    "plt.figure(figsize=(12,10))\n",
    "sns.heatmap(dataset.corr(),annot=True,cmap='viridis')\n",
    "plt.show()"
   ]
  },
  {
   "cell_type": "code",
   "execution_count": 91,
   "metadata": {},
   "outputs": [],
   "source": [
    "dataset.drop(columns=['Timestamp','Run Status','By-pass Valve Position (%)'],inplace=True)"
   ]
  },
  {
   "cell_type": "code",
   "execution_count": 92,
   "metadata": {},
   "outputs": [
    {
     "data": {
      "text/html": [
       "<div>\n",
       "<style scoped>\n",
       "    .dataframe tbody tr th:only-of-type {\n",
       "        vertical-align: middle;\n",
       "    }\n",
       "\n",
       "    .dataframe tbody tr th {\n",
       "        vertical-align: top;\n",
       "    }\n",
       "\n",
       "    .dataframe thead th {\n",
       "        text-align: right;\n",
       "    }\n",
       "</style>\n",
       "<table border=\"1\" class=\"dataframe\">\n",
       "  <thead>\n",
       "    <tr style=\"text-align: right;\">\n",
       "      <th></th>\n",
       "      <th>Suction Pressure (psig)</th>\n",
       "      <th>Suction Temperature (F)</th>\n",
       "      <th>Total Flow (gpm)</th>\n",
       "      <th>Speed (rpm)</th>\n",
       "      <th>Discharge Pressure (psig)</th>\n",
       "      <th>Discharge Temperature (F)</th>\n",
       "    </tr>\n",
       "  </thead>\n",
       "  <tbody>\n",
       "    <tr>\n",
       "      <td>0</td>\n",
       "      <td>596.100853</td>\n",
       "      <td>-229.436683</td>\n",
       "      <td>7925.800487</td>\n",
       "      <td>2999.411045</td>\n",
       "      <td>226.044931</td>\n",
       "      <td>-227.614448</td>\n",
       "    </tr>\n",
       "    <tr>\n",
       "      <td>1</td>\n",
       "      <td>596.838217</td>\n",
       "      <td>-230.453708</td>\n",
       "      <td>8085.917724</td>\n",
       "      <td>2989.706617</td>\n",
       "      <td>217.150974</td>\n",
       "      <td>-228.668636</td>\n",
       "    </tr>\n",
       "    <tr>\n",
       "      <td>2</td>\n",
       "      <td>596.468895</td>\n",
       "      <td>-229.545356</td>\n",
       "      <td>7902.175243</td>\n",
       "      <td>3006.331679</td>\n",
       "      <td>226.054086</td>\n",
       "      <td>-227.755324</td>\n",
       "    </tr>\n",
       "    <tr>\n",
       "      <td>3</td>\n",
       "      <td>603.568271</td>\n",
       "      <td>-230.309438</td>\n",
       "      <td>7991.808959</td>\n",
       "      <td>3010.487486</td>\n",
       "      <td>226.016182</td>\n",
       "      <td>-228.489113</td>\n",
       "    </tr>\n",
       "    <tr>\n",
       "      <td>4</td>\n",
       "      <td>595.407372</td>\n",
       "      <td>-229.767969</td>\n",
       "      <td>7871.560747</td>\n",
       "      <td>2986.665518</td>\n",
       "      <td>227.769383</td>\n",
       "      <td>-227.971795</td>\n",
       "    </tr>\n",
       "  </tbody>\n",
       "</table>\n",
       "</div>"
      ],
      "text/plain": [
       "   Suction Pressure (psig)  Suction Temperature (F)  Total Flow (gpm)  \\\n",
       "0               596.100853              -229.436683       7925.800487   \n",
       "1               596.838217              -230.453708       8085.917724   \n",
       "2               596.468895              -229.545356       7902.175243   \n",
       "3               603.568271              -230.309438       7991.808959   \n",
       "4               595.407372              -229.767969       7871.560747   \n",
       "\n",
       "   Speed (rpm)  Discharge Pressure (psig)  Discharge Temperature (F)  \n",
       "0  2999.411045                 226.044931                -227.614448  \n",
       "1  2989.706617                 217.150974                -228.668636  \n",
       "2  3006.331679                 226.054086                -227.755324  \n",
       "3  3010.487486                 226.016182                -228.489113  \n",
       "4  2986.665518                 227.769383                -227.971795  "
      ]
     },
     "execution_count": 92,
     "metadata": {},
     "output_type": "execute_result"
    }
   ],
   "source": [
    "dataset.head()"
   ]
  },
  {
   "cell_type": "markdown",
   "metadata": {},
   "source": [
    "### Separating independent and dependent variables"
   ]
  },
  {
   "cell_type": "code",
   "execution_count": 93,
   "metadata": {},
   "outputs": [],
   "source": [
    "X=dataset.iloc[:,[0,1,2,3,5]].values\n",
    "y=dataset.iloc[:,4].values"
   ]
  },
  {
   "cell_type": "markdown",
   "metadata": {},
   "source": [
    "### Normalization"
   ]
  },
  {
   "cell_type": "code",
   "execution_count": 94,
   "metadata": {},
   "outputs": [],
   "source": [
    "from sklearn.preprocessing import StandardScaler\n",
    "sc=StandardScaler()\n",
    "X_sc=sc.fit_transform(X)"
   ]
  },
  {
   "cell_type": "markdown",
   "metadata": {},
   "source": [
    "### Splitting the dataset in train and test set"
   ]
  },
  {
   "cell_type": "code",
   "execution_count": 95,
   "metadata": {},
   "outputs": [],
   "source": [
    "from sklearn.model_selection import train_test_split\n",
    "X_train,X_test,y_train,y_test = train_test_split(X_sc,y,test_size=0.3)"
   ]
  },
  {
   "cell_type": "markdown",
   "metadata": {},
   "source": [
    "## Implementing Decision Tree Regression"
   ]
  },
  {
   "cell_type": "code",
   "execution_count": 96,
   "metadata": {},
   "outputs": [],
   "source": [
    "from sklearn.tree import DecisionTreeRegressor\n",
    "regressor = DecisionTreeRegressor(random_state=0)"
   ]
  },
  {
   "cell_type": "code",
   "execution_count": 97,
   "metadata": {},
   "outputs": [
    {
     "data": {
      "text/plain": [
       "DecisionTreeRegressor(criterion='mse', max_depth=None, max_features=None,\n",
       "                      max_leaf_nodes=None, min_impurity_decrease=0.0,\n",
       "                      min_impurity_split=None, min_samples_leaf=1,\n",
       "                      min_samples_split=2, min_weight_fraction_leaf=0.0,\n",
       "                      presort=False, random_state=0, splitter='best')"
      ]
     },
     "execution_count": 97,
     "metadata": {},
     "output_type": "execute_result"
    }
   ],
   "source": [
    "regressor.fit(X_train,y_train)"
   ]
  },
  {
   "cell_type": "code",
   "execution_count": 98,
   "metadata": {},
   "outputs": [],
   "source": [
    "y_pred=regressor.predict(X_test)"
   ]
  },
  {
   "cell_type": "code",
   "execution_count": 99,
   "metadata": {},
   "outputs": [
    {
     "data": {
      "text/plain": [
       "0.9980453670004107"
      ]
     },
     "execution_count": 99,
     "metadata": {},
     "output_type": "execute_result"
    }
   ],
   "source": [
    "regressor.score(X_test,y_test)"
   ]
  },
  {
   "cell_type": "code",
   "execution_count": 100,
   "metadata": {},
   "outputs": [],
   "source": [
    "from sklearn.metrics import mean_squared_error"
   ]
  },
  {
   "cell_type": "code",
   "execution_count": 101,
   "metadata": {},
   "outputs": [
    {
     "data": {
      "text/plain": [
       "6.178118247938366"
      ]
     },
     "execution_count": 101,
     "metadata": {},
     "output_type": "execute_result"
    }
   ],
   "source": [
    "mean_squared_error(y_test,y_pred)"
   ]
  },
  {
   "cell_type": "markdown",
   "metadata": {},
   "source": [
    "## Implementing Random Forest Regression"
   ]
  },
  {
   "cell_type": "code",
   "execution_count": 102,
   "metadata": {},
   "outputs": [],
   "source": [
    "from sklearn.ensemble import RandomForestRegressor\n",
    "regressor = RandomForestRegressor(n_estimators=10,random_state=0)"
   ]
  },
  {
   "cell_type": "code",
   "execution_count": 103,
   "metadata": {},
   "outputs": [
    {
     "data": {
      "text/plain": [
       "RandomForestRegressor(bootstrap=True, criterion='mse', max_depth=None,\n",
       "                      max_features='auto', max_leaf_nodes=None,\n",
       "                      min_impurity_decrease=0.0, min_impurity_split=None,\n",
       "                      min_samples_leaf=1, min_samples_split=2,\n",
       "                      min_weight_fraction_leaf=0.0, n_estimators=10,\n",
       "                      n_jobs=None, oob_score=False, random_state=0, verbose=0,\n",
       "                      warm_start=False)"
      ]
     },
     "execution_count": 103,
     "metadata": {},
     "output_type": "execute_result"
    }
   ],
   "source": [
    "regressor.fit(X_train,y_train)"
   ]
  },
  {
   "cell_type": "code",
   "execution_count": 104,
   "metadata": {},
   "outputs": [],
   "source": [
    "y_pred=regressor.predict(X_test)"
   ]
  },
  {
   "cell_type": "code",
   "execution_count": 105,
   "metadata": {},
   "outputs": [
    {
     "data": {
      "text/plain": [
       "0.9988631244362494"
      ]
     },
     "execution_count": 105,
     "metadata": {},
     "output_type": "execute_result"
    }
   ],
   "source": [
    "regressor.score(X_test,y_test)"
   ]
  },
  {
   "cell_type": "code",
   "execution_count": 106,
   "metadata": {},
   "outputs": [
    {
     "data": {
      "text/plain": [
       "3.5933864144924645"
      ]
     },
     "execution_count": 106,
     "metadata": {},
     "output_type": "execute_result"
    }
   ],
   "source": [
    "mean_squared_error(y_test,y_pred)"
   ]
  },
  {
   "cell_type": "markdown",
   "metadata": {},
   "source": [
    "## Implementing ANN"
   ]
  },
  {
   "cell_type": "code",
   "execution_count": 137,
   "metadata": {},
   "outputs": [],
   "source": [
    "import keras\n",
    "from keras.models import Sequential\n",
    "from keras.layers import Dense"
   ]
  },
  {
   "cell_type": "code",
   "execution_count": 138,
   "metadata": {},
   "outputs": [],
   "source": [
    "NN_model = Sequential()"
   ]
  },
  {
   "cell_type": "code",
   "execution_count": 139,
   "metadata": {},
   "outputs": [],
   "source": [
    "NN_model.add(Dense(3, kernel_initializer='uniform',input_dim = 5, activation='relu'))\n",
    "\n",
    "# The Hidden Layers :\n",
    "NN_model.add(Dense(4, kernel_initializer='uniform',activation='relu'))\n",
    "NN_model.add(Dense(4, kernel_initializer='uniform',activation='relu'))\n",
    "NN_model.add(Dense(4, kernel_initializer='uniform',activation='relu'))\n",
    "\n",
    "# The Output Layer :\n",
    "NN_model.add(Dense(1, kernel_initializer='uniform',activation='linear'))"
   ]
  },
  {
   "cell_type": "code",
   "execution_count": 140,
   "metadata": {},
   "outputs": [],
   "source": [
    "NN_model.compile(loss='mean_squared_error', optimizer='adam', metrics=['mean_squared_error'])"
   ]
  },
  {
   "cell_type": "code",
   "execution_count": 141,
   "metadata": {},
   "outputs": [
    {
     "name": "stdout",
     "output_type": "stream",
     "text": [
      "Train on 166012 samples, validate on 41503 samples\n",
      "Epoch 1/25\n",
      "166012/166012 [==============================] - 34s 202us/step - loss: 1732.6792 - mean_squared_error: 1732.6792 - val_loss: 80.2354 - val_mean_squared_error: 80.2354\n",
      "Epoch 2/25\n",
      "166012/166012 [==============================] - 33s 200us/step - loss: 79.3508 - mean_squared_error: 79.3508 - val_loss: 79.3274 - val_mean_squared_error: 79.3274\n",
      "Epoch 3/25\n",
      "166012/166012 [==============================] - 33s 200us/step - loss: 60.5882 - mean_squared_error: 60.5882 - val_loss: 45.0194 - val_mean_squared_error: 45.0194\n",
      "Epoch 4/25\n",
      "166012/166012 [==============================] - 31s 187us/step - loss: 43.8504 - mean_squared_error: 43.8504 - val_loss: 43.9831 - val_mean_squared_error: 43.9831\n",
      "Epoch 5/25\n",
      "166012/166012 [==============================] - 27s 166us/step - loss: 41.0237 - mean_squared_error: 41.0237 - val_loss: 39.7020 - val_mean_squared_error: 39.7020\n",
      "Epoch 6/25\n",
      "166012/166012 [==============================] - 34s 206us/step - loss: 40.4578 - mean_squared_error: 40.4578 - val_loss: 40.7623 - val_mean_squared_error: 40.7623\n",
      "Epoch 7/25\n",
      "166012/166012 [==============================] - 40s 239us/step - loss: 40.4570 - mean_squared_error: 40.4570 - val_loss: 40.6518 - val_mean_squared_error: 40.6518\n",
      "Epoch 8/25\n",
      "166012/166012 [==============================] - 42s 255us/step - loss: 40.4875 - mean_squared_error: 40.4875 - val_loss: 40.0936 - val_mean_squared_error: 40.0936\n",
      "Epoch 9/25\n",
      "166012/166012 [==============================] - 89s 537us/step - loss: 40.4654 - mean_squared_error: 40.4654 - val_loss: 39.7156 - val_mean_squared_error: 39.7156\n",
      "Epoch 10/25\n",
      "166012/166012 [==============================] - 85s 510us/step - loss: 40.4683 - mean_squared_error: 40.4683 - val_loss: 44.5204 - val_mean_squared_error: 44.5204\n",
      "Epoch 11/25\n",
      "166012/166012 [==============================] - 86s 517us/step - loss: 40.4175 - mean_squared_error: 40.4175 - val_loss: 40.5394 - val_mean_squared_error: 40.5394\n",
      "Epoch 12/25\n",
      "166012/166012 [==============================] - 82s 493us/step - loss: 40.4134 - mean_squared_error: 40.4134 - val_loss: 40.0790 - val_mean_squared_error: 40.0790\n",
      "Epoch 13/25\n",
      "166012/166012 [==============================] - 81s 490us/step - loss: 40.4505 - mean_squared_error: 40.4505 - val_loss: 40.0885 - val_mean_squared_error: 40.0885\n",
      "Epoch 14/25\n",
      "166012/166012 [==============================] - 86s 518us/step - loss: 40.4747 - mean_squared_error: 40.4747 - val_loss: 40.2307 - val_mean_squared_error: 40.2307\n",
      "Epoch 15/25\n",
      "166012/166012 [==============================] - 86s 516us/step - loss: 40.4599 - mean_squared_error: 40.4599 - val_loss: 40.5511 - val_mean_squared_error: 40.5511\n",
      "Epoch 16/25\n",
      "166012/166012 [==============================] - 84s 504us/step - loss: 40.4275 - mean_squared_error: 40.4275 - val_loss: 44.7995 - val_mean_squared_error: 44.7995\n",
      "Epoch 17/25\n",
      "166012/166012 [==============================] - 76s 458us/step - loss: 40.4838 - mean_squared_error: 40.4838 - val_loss: 39.5978 - val_mean_squared_error: 39.5978\n",
      "Epoch 18/25\n",
      "166012/166012 [==============================] - 66s 395us/step - loss: 40.4497 - mean_squared_error: 40.4497 - val_loss: 40.1744 - val_mean_squared_error: 40.1744\n",
      "Epoch 19/25\n",
      "166012/166012 [==============================] - 80s 485us/step - loss: 40.4517 - mean_squared_error: 40.4517 - val_loss: 40.4062 - val_mean_squared_error: 40.4062\n",
      "Epoch 20/25\n",
      "166012/166012 [==============================] - 84s 506us/step - loss: 40.4070 - mean_squared_error: 40.4070 - val_loss: 40.3662 - val_mean_squared_error: 40.3662\n",
      "Epoch 21/25\n",
      "166012/166012 [==============================] - 83s 499us/step - loss: 40.4218 - mean_squared_error: 40.4218 - val_loss: 40.1853 - val_mean_squared_error: 40.1853\n",
      "Epoch 22/25\n",
      "166012/166012 [==============================] - 82s 494us/step - loss: 40.4797 - mean_squared_error: 40.4797 - val_loss: 39.6849 - val_mean_squared_error: 39.6849\n",
      "Epoch 23/25\n",
      "166012/166012 [==============================] - 83s 498us/step - loss: 40.4538 - mean_squared_error: 40.4538 - val_loss: 40.0711 - val_mean_squared_error: 40.0711\n",
      "Epoch 24/25\n",
      "166012/166012 [==============================] - 68s 409us/step - loss: 40.3699 - mean_squared_error: 40.3699 - val_loss: 39.5149 - val_mean_squared_error: 39.5149\n",
      "Epoch 25/25\n",
      "166012/166012 [==============================] - 73s 439us/step - loss: 40.4222 - mean_squared_error: 40.4222 - val_loss: 39.9676 - val_mean_squared_error: 39.9676\n"
     ]
    },
    {
     "data": {
      "text/plain": [
       "<keras.callbacks.History at 0x7f1cf01462b0>"
      ]
     },
     "execution_count": 141,
     "metadata": {},
     "output_type": "execute_result"
    }
   ],
   "source": [
    "NN_model.fit(X_train, y_train, epochs=25, batch_size=8, validation_split = 0.2)\n"
   ]
  },
  {
   "cell_type": "markdown",
   "metadata": {},
   "source": [
    "## Implementing Linear Regression"
   ]
  },
  {
   "cell_type": "code",
   "execution_count": 107,
   "metadata": {},
   "outputs": [],
   "source": [
    "from sklearn.linear_model import LinearRegression\n",
    "regressor = LinearRegression()"
   ]
  },
  {
   "cell_type": "code",
   "execution_count": 108,
   "metadata": {},
   "outputs": [
    {
     "data": {
      "text/plain": [
       "LinearRegression(copy_X=True, fit_intercept=True, n_jobs=None, normalize=False)"
      ]
     },
     "execution_count": 108,
     "metadata": {},
     "output_type": "execute_result"
    }
   ],
   "source": [
    "regressor.fit(X_train,y_train)"
   ]
  },
  {
   "cell_type": "code",
   "execution_count": 109,
   "metadata": {},
   "outputs": [],
   "source": [
    "y_pred = regressor.predict(X_test)"
   ]
  },
  {
   "cell_type": "code",
   "execution_count": 110,
   "metadata": {},
   "outputs": [
    {
     "data": {
      "text/plain": [
       "0.9747860957200425"
      ]
     },
     "execution_count": 110,
     "metadata": {},
     "output_type": "execute_result"
    }
   ],
   "source": [
    "regressor.score(X_test,y_test)"
   ]
  },
  {
   "cell_type": "code",
   "execution_count": 111,
   "metadata": {},
   "outputs": [
    {
     "data": {
      "text/plain": [
       "79.69500267646333"
      ]
     },
     "execution_count": 111,
     "metadata": {},
     "output_type": "execute_result"
    }
   ],
   "source": [
    "mean_squared_error(y_test,y_pred)"
   ]
  },
  {
   "cell_type": "markdown",
   "metadata": {},
   "source": [
    "## Implementing Ridge Regression"
   ]
  },
  {
   "cell_type": "code",
   "execution_count": 132,
   "metadata": {},
   "outputs": [],
   "source": [
    "from sklearn.linear_model import Ridge\n",
    "regressor = Ridge(alpha=1) "
   ]
  },
  {
   "cell_type": "code",
   "execution_count": 133,
   "metadata": {},
   "outputs": [
    {
     "data": {
      "text/plain": [
       "Ridge(alpha=1, copy_X=True, fit_intercept=True, max_iter=None, normalize=False,\n",
       "      random_state=None, solver='auto', tol=0.001)"
      ]
     },
     "execution_count": 133,
     "metadata": {},
     "output_type": "execute_result"
    }
   ],
   "source": [
    "regressor.fit(X_train,y_train)"
   ]
  },
  {
   "cell_type": "code",
   "execution_count": 134,
   "metadata": {},
   "outputs": [],
   "source": [
    "y_pred = regressor.predict(X_test)"
   ]
  },
  {
   "cell_type": "code",
   "execution_count": 135,
   "metadata": {},
   "outputs": [
    {
     "data": {
      "text/plain": [
       "0.9747859994303465"
      ]
     },
     "execution_count": 135,
     "metadata": {},
     "output_type": "execute_result"
    }
   ],
   "source": [
    "regressor.score(X_test,y_test)"
   ]
  },
  {
   "cell_type": "code",
   "execution_count": 136,
   "metadata": {},
   "outputs": [
    {
     "data": {
      "text/plain": [
       "79.69530702471053"
      ]
     },
     "execution_count": 136,
     "metadata": {},
     "output_type": "execute_result"
    }
   ],
   "source": [
    "mean_squared_error(y_test,y_pred)"
   ]
  },
  {
   "cell_type": "markdown",
   "metadata": {},
   "source": [
    "## Implementing xgboost"
   ]
  },
  {
   "cell_type": "code",
   "execution_count": 117,
   "metadata": {},
   "outputs": [],
   "source": [
    "from xgboost import XGBRegressor\n",
    "regressor = XGBRegressor()"
   ]
  },
  {
   "cell_type": "code",
   "execution_count": 118,
   "metadata": {},
   "outputs": [
    {
     "name": "stdout",
     "output_type": "stream",
     "text": [
      "[13:39:26] WARNING: /workspace/src/objective/regression_obj.cu:152: reg:linear is now deprecated in favor of reg:squarederror.\n"
     ]
    },
    {
     "data": {
      "text/plain": [
       "XGBRegressor(base_score=0.5, booster='gbtree', colsample_bylevel=1,\n",
       "             colsample_bynode=1, colsample_bytree=1, gamma=0,\n",
       "             importance_type='gain', learning_rate=0.1, max_delta_step=0,\n",
       "             max_depth=3, min_child_weight=1, missing=None, n_estimators=100,\n",
       "             n_jobs=1, nthread=None, objective='reg:linear', random_state=0,\n",
       "             reg_alpha=0, reg_lambda=1, scale_pos_weight=1, seed=None,\n",
       "             silent=None, subsample=1, verbosity=1)"
      ]
     },
     "execution_count": 118,
     "metadata": {},
     "output_type": "execute_result"
    }
   ],
   "source": [
    "regressor.fit(X_train,y_train)"
   ]
  },
  {
   "cell_type": "code",
   "execution_count": 119,
   "metadata": {},
   "outputs": [],
   "source": [
    "y_pred = regressor.predict(X_test)"
   ]
  },
  {
   "cell_type": "code",
   "execution_count": 120,
   "metadata": {},
   "outputs": [
    {
     "data": {
      "text/plain": [
       "0.9971245401984964"
      ]
     },
     "execution_count": 120,
     "metadata": {},
     "output_type": "execute_result"
    }
   ],
   "source": [
    "regressor.score(X_test,y_test)"
   ]
  },
  {
   "cell_type": "code",
   "execution_count": 121,
   "metadata": {},
   "outputs": [
    {
     "data": {
      "text/plain": [
       "9.088627212686376"
      ]
     },
     "execution_count": 121,
     "metadata": {},
     "output_type": "execute_result"
    }
   ],
   "source": [
    "mean_squared_error(y_test,y_pred)"
   ]
  },
  {
   "cell_type": "code",
   "execution_count": null,
   "metadata": {},
   "outputs": [],
   "source": []
  }
 ],
 "metadata": {
  "kernelspec": {
   "display_name": "Python 3",
   "language": "python",
   "name": "python3"
  },
  "language_info": {
   "codemirror_mode": {
    "name": "ipython",
    "version": 3
   },
   "file_extension": ".py",
   "mimetype": "text/x-python",
   "name": "python",
   "nbconvert_exporter": "python",
   "pygments_lexer": "ipython3",
   "version": "3.6.9"
  }
 },
 "nbformat": 4,
 "nbformat_minor": 2
}
